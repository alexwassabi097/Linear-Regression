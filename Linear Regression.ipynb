{
 "cells": [
  {
   "cell_type": "markdown",
   "metadata": {
    "toc": true
   },
   "source": [
    "<h1>Table of Contents<span class=\"tocSkip\"></span></h1>\n",
    "<div class=\"toc\"><ul class=\"toc-item\"><li><span><a href=\"#Overview\" data-toc-modified-id=\"Overview-1\"><span class=\"toc-item-num\">1&nbsp;&nbsp;</span>Overview</a></span></li><li><span><a href=\"#Load-data\" data-toc-modified-id=\"Load-data-2\"><span class=\"toc-item-num\">2&nbsp;&nbsp;</span>Load data</a></span></li><li><span><a href=\"#Remove-'subject#'\" data-toc-modified-id=\"Remove-'subject#'-3\"><span class=\"toc-item-num\">3&nbsp;&nbsp;</span>Remove 'subject#'</a></span></li><li><span><a href=\"#Get-the-features-and-target\" data-toc-modified-id=\"Get-the-features-and-target-4\"><span class=\"toc-item-num\">4&nbsp;&nbsp;</span>Get the features and target</a></span></li><li><span><a href=\"#The-slow-linear-regression-model-(implemented-using-list)\" data-toc-modified-id=\"The-slow-linear-regression-model-(implemented-using-list)-5\"><span class=\"toc-item-num\">5&nbsp;&nbsp;</span>The slow linear regression model (implemented using list)</a></span></li><li><span><a href=\"#Train-and-test-the-slow-linear-regression-model\" data-toc-modified-id=\"Train-and-test-the-slow-linear-regression-model-6\"><span class=\"toc-item-num\">6&nbsp;&nbsp;</span>Train and test the slow linear regression model</a></span></li><li><span><a href=\"#The-fast-linear-regression-model-(implemented-using-numpy-array)\" data-toc-modified-id=\"The-fast-linear-regression-model-(implemented-using-numpy-array)-7\"><span class=\"toc-item-num\">7&nbsp;&nbsp;</span>The fast linear regression model (implemented using numpy array)</a></span></li><li><span><a href=\"#Train-and-test-the-fast-linear-regression-model\" data-toc-modified-id=\"Train-and-test-the-fast-linear-regression-model-8\"><span class=\"toc-item-num\">8&nbsp;&nbsp;</span>Train and test the fast linear regression model</a></span></li><li><span><a href=\"#Discussion\" data-toc-modified-id=\"Discussion-9\"><span class=\"toc-item-num\">9&nbsp;&nbsp;</span>Discussion</a></span></li></ul></div>"
   ]
  },
  {
   "cell_type": "markdown",
   "metadata": {},
   "source": [
    "# Overview\n",
    "- Apply Linear Regression on the [Parkinsons Telemonitoring Data Set](https://archive.ics.uci.edu/ml/datasets/Parkinsons+Telemonitoring)\n",
    "- Particularly\n",
    "    - you should implement your own (slow) model using list\n",
    "    - numpy cannot be used \n",
    "- Complete the missing parts indicated by # Implement me\n",
    "- Particularly, the code should\n",
    "    - be bug-free (while the output produced by your solution being the same as the provided output does not necessarily mean your code is bug-free, it is very likely that there is a bug in your code when the two kinds of output are different)\n",
    "    - be commented"
   ]
  },
  {
   "cell_type": "markdown",
   "metadata": {},
   "source": [
    "# Load data"
   ]
  },
  {
   "cell_type": "code",
   "execution_count": null,
   "metadata": {
    "scrolled": true
   },
   "outputs": [],
   "source": [
    "import pandas as pd\n",
    "\n",
    "# Implement me\n",
    "df = pd.read_csv('https://archive.ics.uci.edu/ml/machine-learning-databases/'\n",
    "                 'parkinsons/telemonitoring/parkinsons_updrs.data', sep =',', header = 0)\n",
    "df.head()"
   ]
  },
  {
   "cell_type": "markdown",
   "metadata": {},
   "source": [
    "# Remove 'subject#'"
   ]
  },
  {
   "cell_type": "code",
   "execution_count": null,
   "metadata": {
    "scrolled": true
   },
   "outputs": [],
   "source": [
    "# Implement me\n",
    "df = df.drop('subject#', axis = 1)\n",
    "df.head()"
   ]
  },
  {
   "cell_type": "markdown",
   "metadata": {},
   "source": [
    "# Get the features and target"
   ]
  },
  {
   "cell_type": "code",
   "execution_count": null,
   "metadata": {
    "scrolled": true
   },
   "outputs": [],
   "source": [
    "# The targets\n",
    "targets = ['motor_UPDRS', 'total_UPDRS']\n",
    "\n",
    "# Implement me\n",
    "X = df.drop(targets, axis = 1)\n",
    "y = df[targets]"
   ]
  },
  {
   "cell_type": "code",
   "execution_count": null,
   "metadata": {},
   "outputs": [],
   "source": [
    "X.head()"
   ]
  },
  {
   "cell_type": "code",
   "execution_count": null,
   "metadata": {},
   "outputs": [],
   "source": [
    "# y = df.loc[ :, ['motor_UPDRS','total_UPDRS']] #locate all rows and these two specific columns\n",
    "y.head()"
   ]
  },
  {
   "cell_type": "markdown",
   "metadata": {},
   "source": [
    "# The slow linear regression model (implemented using list)"
   ]
  },
  {
   "cell_type": "code",
   "execution_count": null,
   "metadata": {},
   "outputs": [],
   "source": [
    "from sklearn.base import BaseEstimator, RegressorMixin\n",
    "\n",
    "class MySlowLinearRegression(BaseEstimator, RegressorMixin):\n",
    "    \"\"\"The slow linear regression model (implemented using list)\"\"\"\n",
    "    \n",
    "    def __init__(self, n_iter=50, eta=10 ** -5, random_state=0):\n",
    "        # The number of iterations\n",
    "        self.n_iter = n_iter\n",
    "        # The learning rate\n",
    "        self.eta = eta\n",
    "        # The random state\n",
    "        self.random_state = random_state\n",
    "        \n",
    "    def fit(self, X, y):\n",
    "        \"\"\"\n",
    "        The fit function\n",
    "        \n",
    "        Parameters\n",
    "        ----------\n",
    "        X : the feature matrix\n",
    "        y : the target vector\n",
    "        \"\"\"\n",
    "        \n",
    "        # Initialize the weight (using zero) for features x0 (the dummy feature), x1, x2, ..., xn \n",
    "        # Implement me\n",
    "        self.w = \n",
    "\n",
    "        # For each iteration\n",
    "        for _ in range(self.n_iter):\n",
    "            # Initialize the update (using zero) for features x0 (the dummy feature), x1, x2, ..., xn \n",
    "            # Implement me\n",
    "            delta_w = \n",
    "\n",
    "            # For each sample\n",
    "            for i in range(X.shape[0]): \n",
    "                # Get the net_input for sample i (using the net_input function defined below)\n",
    "                # Implement me\n",
    "                net_input = \n",
    "\n",
    "                # Get the error\n",
    "                # Implement me\n",
    "                error = \n",
    "\n",
    "                # Get the update for each feature\n",
    "                for j in range(1, X.shape[1] + 1):\n",
    "                    # Implement me\n",
    "                    delta_w[j] += \n",
    "\n",
    "                # Get the update for the dummy feature, x0\n",
    "                # Implement me\n",
    "                delta_w[0] +=\n",
    "\n",
    "            # Update the weight for features x0 (the dummy feature), x1, x2, ..., xn \n",
    "            for j in range(X.shape[1] + 1):\n",
    "                # Implement me\n",
    "                self.w[j] += \n",
    "\n",
    "    def net_input(self, X, i):\n",
    "        \"\"\"\n",
    "        Get the net input for sample i\n",
    "        \n",
    "        Parameters\n",
    "        ----------\n",
    "        X : the feature matrix\n",
    "        i : the ith sample\n",
    "        \n",
    "        Returns\n",
    "        ----------\n",
    "        The net input for sample i\n",
    "       \n",
    "        \"\"\"\n",
    "        \n",
    "        # Implement me\n",
    "        \n",
    "\n",
    "    def predict(self, X):\n",
    "        \"\"\"\n",
    "        The predict function\n",
    "        \n",
    "        Parameters\n",
    "        ----------\n",
    "        X : the feature vector\n",
    "        \n",
    "        Returns\n",
    "        ----------\n",
    "        The predicted value of the target\n",
    "        \"\"\"\n",
    "        \n",
    "        # The predicted value\n",
    "        y_pred = []\n",
    "        \n",
    "        # For each sample\n",
    "        for i in range(X.shape[0]):\n",
    "            # Get the net_input for sample i (using the net_input function defined above)\n",
    "            # Implement me\n",
    "            \n",
    "            \n",
    "            # Update y_pred\n",
    "            y_pred.append(net_input)\n",
    "    \n",
    "        return y_pred"
   ]
  },
  {
   "cell_type": "markdown",
   "metadata": {},
   "source": [
    "# Train and test the slow linear regression model"
   ]
  },
  {
   "cell_type": "code",
   "execution_count": null,
   "metadata": {
    "scrolled": true
   },
   "outputs": [],
   "source": [
    "from sklearn.pipeline import Pipeline\n",
    "from sklearn.preprocessing import StandardScaler\n",
    "from sklearn.model_selection import cross_val_score\n",
    "from sklearn.model_selection import KFold\n",
    "\n",
    "# Create the pipeline with StandardScaler and MySlowLinearRegression\n",
    "# Implement me\n",
    "pipe_mslr = Pipeline([('StandardScaler', StandardScaler()), ('MySlowLinearRegression', MySlowLinearRegression())])\n",
    "\n",
    "\n",
    "# For each target\n",
    "for j in range(len(targets)):\n",
    "    scores = cross_val_score(pipe_mslr,\n",
    "                             X,\n",
    "                             y[:, j],\n",
    "                             cv=KFold(n_splits=10,\n",
    "                                      random_state=0))\n",
    "\n",
    "    print(scores.mean(), scores.std())"
   ]
  },
  {
   "cell_type": "markdown",
   "metadata": {},
   "source": [
    "# The fast linear regression model (implemented using numpy array)"
   ]
  },
  {
   "cell_type": "code",
   "execution_count": null,
   "metadata": {},
   "outputs": [],
   "source": [
    "# Reference: The code below is from exercise_3_solution.ipynb\n",
    "import numpy as np\n",
    "from sklearn.base import BaseEstimator, RegressorMixin\n",
    "\n",
    "class MyFastLinearRegression(BaseEstimator, RegressorMixin):\n",
    "    \"\"\"The fast linear regression model (implemented using numpy array)\"\"\"\n",
    "    \n",
    "    def __init__(self, n_iter=50, eta=10 ** -5, random_state=0):\n",
    "        # The number of iterations\n",
    "        self.n_iter = n_iter\n",
    "        # The learning rate\n",
    "        self.eta = eta\n",
    "        # The random state\n",
    "        self.random_state = random_state\n",
    "\n",
    "    def fit(self, X, y):\n",
    "        \"\"\"\n",
    "        The fit function\n",
    "        \n",
    "        Parameters\n",
    "        ----------\n",
    "        X : the feature matrix\n",
    "        y : the target vector\n",
    "        \"\"\"\n",
    "        \n",
    "        # Initialize the weight for features x0 (the dummy feature), x1, x2, ..., xn\n",
    "        self.w = np.zeros(1 + X.shape[1])\n",
    "\n",
    "        # For each iteration\n",
    "        for _ in range(self.n_iter):\n",
    "            # Get the net_input\n",
    "            net_input = self.net_input(X)\n",
    "            \n",
    "            # Get the errors\n",
    "            errors = y - net_input\n",
    "            \n",
    "            # Get the update (of the weight) for features x1, x2, ..., xn\n",
    "            self.w[1:] += self.eta * X.T.dot(errors)\n",
    "            \n",
    "            # Get the update (of the weight) for the dummy feature, x0\n",
    "            self.w[0] += self.eta * errors.sum()\n",
    "\n",
    "    def net_input(self, X):\n",
    "        \"\"\"\n",
    "        Get the net input\n",
    "        \n",
    "        Parameters\n",
    "        ----------\n",
    "        X : the feature matrix\n",
    "        \n",
    "        Returns\n",
    "        ----------\n",
    "        The net input\n",
    "       \n",
    "        \"\"\"\n",
    "        \n",
    "        return np.dot(X, self.w[1:].T) + self.w[0]\n",
    "\n",
    "    def predict(self, X):\n",
    "        \"\"\"\n",
    "        The predict function\n",
    "        \n",
    "        Parameters\n",
    "        ----------\n",
    "        X : the feature matrix\n",
    "        \n",
    "        Returns\n",
    "        ----------\n",
    "        The predicted value of the target\n",
    "        \"\"\"\n",
    "            \n",
    "        return self.net_input(X)"
   ]
  },
  {
   "cell_type": "markdown",
   "metadata": {},
   "source": [
    "# Train and test the fast linear regression model"
   ]
  },
  {
   "cell_type": "code",
   "execution_count": null,
   "metadata": {},
   "outputs": [],
   "source": [
    "from sklearn.pipeline import Pipeline\n",
    "from sklearn.preprocessing import StandardScaler\n",
    "from sklearn.model_selection import cross_val_score\n",
    "from sklearn.model_selection import KFold\n",
    "# Create the pipeline with StandardScaler and MyFastLinearRegression\n",
    "# Implement me\n",
    "pipe_mflr = Pipeline([('StandardScaler', StandardScaler()), ('MyFastLinearRegression', MyFastLinearRegression())])\n",
    "\n",
    "\n",
    "for j in range(len(targets)):\n",
    "    scores = cross_val_score(pipe_mflr,\n",
    "                             X,\n",
    "                             y[:,j],\n",
    "                             cv=KFold(n_splits=10,\n",
    "                                      random_state=0))\n",
    "\n",
    "    print(scores.mean(), scores.std())"
   ]
  },
  {
   "cell_type": "markdown",
   "metadata": {},
   "source": [
    "# Discussion\n",
    "The results in sections 6 and 8 show that, the average accuracy and standard deviation of the two kinds of models (slow and fast) are the same. This is not surprising since while the two implementations use different data structures (list and numpy array), the logics are exactly the same.\n",
    "\n",
    "Unfortunately (for your machine), running the slow model is annoyingly slow. However, implementing this model is meaningful for two reasons. First, without using the numpy array operations, the list-based implementation clearly shows you what exactly happens under the hood. Second, the difference in running time shows you that numpy array is much more efficient than list. This is also why most of the models in sklearn were implemented using numpy array."
   ]
  },
  {
   "cell_type": "code",
   "execution_count": null,
   "metadata": {},
   "outputs": [],
   "source": []
  }
 ],
 "metadata": {
  "kernelspec": {
   "display_name": "Python 3",
   "language": "python",
   "name": "python3"
  },
  "language_info": {
   "codemirror_mode": {
    "name": "ipython",
    "version": 3
   },
   "file_extension": ".py",
   "mimetype": "text/x-python",
   "name": "python",
   "nbconvert_exporter": "python",
   "pygments_lexer": "ipython3",
   "version": "3.6.5"
  },
  "toc": {
   "base_numbering": 1,
   "nav_menu": {},
   "number_sections": true,
   "sideBar": true,
   "skip_h1_title": false,
   "title_cell": "Table of Contents",
   "title_sidebar": "Contents",
   "toc_cell": true,
   "toc_position": {},
   "toc_section_display": true,
   "toc_window_display": false
  }
 },
 "nbformat": 4,
 "nbformat_minor": 2
}
